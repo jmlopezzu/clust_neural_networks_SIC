{
 "cells": [
  {
   "cell_type": "code",
   "execution_count": 1,
   "metadata": {
    "collapsed": true
   },
   "outputs": [],
   "source": [
    "import numpy as np\n",
    "import pandas as pd"
   ]
  },
  {
   "cell_type": "code",
   "execution_count": 2,
   "metadata": {
    "collapsed": true
   },
   "outputs": [],
   "source": [
    "url = \"https://archive.ics.uci.edu/ml/machine-learning-databases/iris/iris.data\"\n",
    "names = ['sepal length', 'sepal width', 'petal length', 'petal width', 'class']\n",
    "ds = pd.read_csv(url, names=names)"
   ]
  },
  {
   "cell_type": "code",
   "execution_count": 3,
   "metadata": {},
   "outputs": [
    {
     "data": {
      "text/html": [
       "<div>\n",
       "<style>\n",
       "    .dataframe thead tr:only-child th {\n",
       "        text-align: right;\n",
       "    }\n",
       "\n",
       "    .dataframe thead th {\n",
       "        text-align: left;\n",
       "    }\n",
       "\n",
       "    .dataframe tbody tr th {\n",
       "        vertical-align: top;\n",
       "    }\n",
       "</style>\n",
       "<table border=\"1\" class=\"dataframe\">\n",
       "  <thead>\n",
       "    <tr style=\"text-align: right;\">\n",
       "      <th></th>\n",
       "      <th>sepal length</th>\n",
       "      <th>sepal width</th>\n",
       "      <th>petal length</th>\n",
       "      <th>petal width</th>\n",
       "      <th>class</th>\n",
       "    </tr>\n",
       "  </thead>\n",
       "  <tbody>\n",
       "    <tr>\n",
       "      <th>0</th>\n",
       "      <td>5.1</td>\n",
       "      <td>3.5</td>\n",
       "      <td>1.4</td>\n",
       "      <td>0.2</td>\n",
       "      <td>Iris-setosa</td>\n",
       "    </tr>\n",
       "    <tr>\n",
       "      <th>1</th>\n",
       "      <td>4.9</td>\n",
       "      <td>3.0</td>\n",
       "      <td>1.4</td>\n",
       "      <td>0.2</td>\n",
       "      <td>Iris-setosa</td>\n",
       "    </tr>\n",
       "    <tr>\n",
       "      <th>2</th>\n",
       "      <td>4.7</td>\n",
       "      <td>3.2</td>\n",
       "      <td>1.3</td>\n",
       "      <td>0.2</td>\n",
       "      <td>Iris-setosa</td>\n",
       "    </tr>\n",
       "    <tr>\n",
       "      <th>3</th>\n",
       "      <td>4.6</td>\n",
       "      <td>3.1</td>\n",
       "      <td>1.5</td>\n",
       "      <td>0.2</td>\n",
       "      <td>Iris-setosa</td>\n",
       "    </tr>\n",
       "    <tr>\n",
       "      <th>4</th>\n",
       "      <td>5.0</td>\n",
       "      <td>3.6</td>\n",
       "      <td>1.4</td>\n",
       "      <td>0.2</td>\n",
       "      <td>Iris-setosa</td>\n",
       "    </tr>\n",
       "  </tbody>\n",
       "</table>\n",
       "</div>"
      ],
      "text/plain": [
       "   sepal length  sepal width  petal length  petal width        class\n",
       "0           5.1          3.5           1.4          0.2  Iris-setosa\n",
       "1           4.9          3.0           1.4          0.2  Iris-setosa\n",
       "2           4.7          3.2           1.3          0.2  Iris-setosa\n",
       "3           4.6          3.1           1.5          0.2  Iris-setosa\n",
       "4           5.0          3.6           1.4          0.2  Iris-setosa"
      ]
     },
     "execution_count": 3,
     "metadata": {},
     "output_type": "execute_result"
    }
   ],
   "source": [
    "ds.head()"
   ]
  },
  {
   "cell_type": "code",
   "execution_count": 4,
   "metadata": {
    "collapsed": true
   },
   "outputs": [],
   "source": [
    "#normalization\n",
    "\n",
    "list_sl=[]\n",
    "list_sw=[]\n",
    "list_pl=[]\n",
    "list_pw=[]\n",
    "for sl in ds['sepal length']:\n",
    "    sl = (sl-min(ds['sepal length']))/(max(ds['sepal length'])-min(ds['sepal length']))\n",
    "    list_sl.append(sl)\n",
    "for sw in ds['sepal width']:\n",
    "    sw = (sw-min(ds['sepal width']))/(max(ds['sepal width'])-min(ds['sepal width']))\n",
    "    list_sw.append(sw)    \n",
    "for pl in ds['petal length']:\n",
    "    pl = (pl-min(ds['petal length']))/(max(ds['petal length'])-min(ds['petal length']))\n",
    "    list_pl.append(pl)\n",
    "for pw in ds['petal width']:\n",
    "    pw = (pw-min(ds['petal width']))/(max(ds['petal width'])-min(ds['petal width']))\n",
    "    list_pw.append(pw) \n",
    "\n",
    "X = np.array( list(zip(list_sl,list_sw, list_pl, list_pw)) )  "
   ]
  },
  {
   "cell_type": "code",
   "execution_count": 5,
   "metadata": {},
   "outputs": [
    {
     "name": "stdout",
     "output_type": "stream",
     "text": [
      "[[ 0.22222222  0.625       0.06779661  0.04166667]\n",
      " [ 0.16666667  0.41666667  0.06779661  0.04166667]\n",
      " [ 0.11111111  0.5         0.05084746  0.04166667]\n",
      " [ 0.08333333  0.45833333  0.08474576  0.04166667]\n",
      " [ 0.19444444  0.66666667  0.06779661  0.04166667]\n",
      " [ 0.30555556  0.79166667  0.11864407  0.125     ]\n",
      " [ 0.08333333  0.58333333  0.06779661  0.08333333]\n",
      " [ 0.19444444  0.58333333  0.08474576  0.04166667]\n",
      " [ 0.02777778  0.375       0.06779661  0.04166667]\n",
      " [ 0.16666667  0.45833333  0.08474576  0.        ]\n",
      " [ 0.30555556  0.70833333  0.08474576  0.04166667]\n",
      " [ 0.13888889  0.58333333  0.10169492  0.04166667]\n",
      " [ 0.13888889  0.41666667  0.06779661  0.        ]\n",
      " [ 0.          0.41666667  0.01694915  0.        ]\n",
      " [ 0.41666667  0.83333333  0.03389831  0.04166667]\n",
      " [ 0.38888889  1.          0.08474576  0.125     ]\n",
      " [ 0.30555556  0.79166667  0.05084746  0.125     ]\n",
      " [ 0.22222222  0.625       0.06779661  0.08333333]\n",
      " [ 0.38888889  0.75        0.11864407  0.08333333]\n",
      " [ 0.22222222  0.75        0.08474576  0.08333333]\n",
      " [ 0.30555556  0.58333333  0.11864407  0.04166667]\n",
      " [ 0.22222222  0.70833333  0.08474576  0.125     ]\n",
      " [ 0.08333333  0.66666667  0.          0.04166667]\n",
      " [ 0.22222222  0.54166667  0.11864407  0.16666667]\n",
      " [ 0.13888889  0.58333333  0.15254237  0.04166667]\n",
      " [ 0.19444444  0.41666667  0.10169492  0.04166667]\n",
      " [ 0.19444444  0.58333333  0.10169492  0.125     ]\n",
      " [ 0.25        0.625       0.08474576  0.04166667]\n",
      " [ 0.25        0.58333333  0.06779661  0.04166667]\n",
      " [ 0.11111111  0.5         0.10169492  0.04166667]\n",
      " [ 0.13888889  0.45833333  0.10169492  0.04166667]\n",
      " [ 0.30555556  0.58333333  0.08474576  0.125     ]\n",
      " [ 0.25        0.875       0.08474576  0.        ]\n",
      " [ 0.33333333  0.91666667  0.06779661  0.04166667]\n",
      " [ 0.16666667  0.45833333  0.08474576  0.        ]\n",
      " [ 0.19444444  0.5         0.03389831  0.04166667]\n",
      " [ 0.33333333  0.625       0.05084746  0.04166667]\n",
      " [ 0.16666667  0.45833333  0.08474576  0.        ]\n",
      " [ 0.02777778  0.41666667  0.05084746  0.04166667]\n",
      " [ 0.22222222  0.58333333  0.08474576  0.04166667]\n",
      " [ 0.19444444  0.625       0.05084746  0.08333333]\n",
      " [ 0.05555556  0.125       0.05084746  0.08333333]\n",
      " [ 0.02777778  0.5         0.05084746  0.04166667]\n",
      " [ 0.19444444  0.625       0.10169492  0.20833333]\n",
      " [ 0.22222222  0.75        0.15254237  0.125     ]\n",
      " [ 0.13888889  0.41666667  0.06779661  0.08333333]\n",
      " [ 0.22222222  0.75        0.10169492  0.04166667]\n",
      " [ 0.08333333  0.5         0.06779661  0.04166667]\n",
      " [ 0.27777778  0.70833333  0.08474576  0.04166667]\n",
      " [ 0.19444444  0.54166667  0.06779661  0.04166667]\n",
      " [ 0.75        0.5         0.62711864  0.54166667]\n",
      " [ 0.58333333  0.5         0.59322034  0.58333333]\n",
      " [ 0.72222222  0.45833333  0.66101695  0.58333333]\n",
      " [ 0.33333333  0.125       0.50847458  0.5       ]\n",
      " [ 0.61111111  0.33333333  0.61016949  0.58333333]\n",
      " [ 0.38888889  0.33333333  0.59322034  0.5       ]\n",
      " [ 0.55555556  0.54166667  0.62711864  0.625     ]\n",
      " [ 0.16666667  0.16666667  0.38983051  0.375     ]\n",
      " [ 0.63888889  0.375       0.61016949  0.5       ]\n",
      " [ 0.25        0.29166667  0.49152542  0.54166667]\n",
      " [ 0.19444444  0.          0.42372881  0.375     ]\n",
      " [ 0.44444444  0.41666667  0.54237288  0.58333333]\n",
      " [ 0.47222222  0.08333333  0.50847458  0.375     ]\n",
      " [ 0.5         0.375       0.62711864  0.54166667]\n",
      " [ 0.36111111  0.375       0.44067797  0.5       ]\n",
      " [ 0.66666667  0.45833333  0.57627119  0.54166667]\n",
      " [ 0.36111111  0.41666667  0.59322034  0.58333333]\n",
      " [ 0.41666667  0.29166667  0.52542373  0.375     ]\n",
      " [ 0.52777778  0.08333333  0.59322034  0.58333333]\n",
      " [ 0.36111111  0.20833333  0.49152542  0.41666667]\n",
      " [ 0.44444444  0.5         0.6440678   0.70833333]\n",
      " [ 0.5         0.33333333  0.50847458  0.5       ]\n",
      " [ 0.55555556  0.20833333  0.66101695  0.58333333]\n",
      " [ 0.5         0.33333333  0.62711864  0.45833333]\n",
      " [ 0.58333333  0.375       0.55932203  0.5       ]\n",
      " [ 0.63888889  0.41666667  0.57627119  0.54166667]\n",
      " [ 0.69444444  0.33333333  0.6440678   0.54166667]\n",
      " [ 0.66666667  0.41666667  0.6779661   0.66666667]\n",
      " [ 0.47222222  0.375       0.59322034  0.58333333]\n",
      " [ 0.38888889  0.25        0.42372881  0.375     ]\n",
      " [ 0.33333333  0.16666667  0.47457627  0.41666667]\n",
      " [ 0.33333333  0.16666667  0.45762712  0.375     ]\n",
      " [ 0.41666667  0.29166667  0.49152542  0.45833333]\n",
      " [ 0.47222222  0.29166667  0.69491525  0.625     ]\n",
      " [ 0.30555556  0.41666667  0.59322034  0.58333333]\n",
      " [ 0.47222222  0.58333333  0.59322034  0.625     ]\n",
      " [ 0.66666667  0.45833333  0.62711864  0.58333333]\n",
      " [ 0.55555556  0.125       0.57627119  0.5       ]\n",
      " [ 0.36111111  0.41666667  0.52542373  0.5       ]\n",
      " [ 0.33333333  0.20833333  0.50847458  0.5       ]\n",
      " [ 0.33333333  0.25        0.57627119  0.45833333]\n",
      " [ 0.5         0.41666667  0.61016949  0.54166667]\n",
      " [ 0.41666667  0.25        0.50847458  0.45833333]\n",
      " [ 0.19444444  0.125       0.38983051  0.375     ]\n",
      " [ 0.36111111  0.29166667  0.54237288  0.5       ]\n",
      " [ 0.38888889  0.41666667  0.54237288  0.45833333]\n",
      " [ 0.38888889  0.375       0.54237288  0.5       ]\n",
      " [ 0.52777778  0.375       0.55932203  0.5       ]\n",
      " [ 0.22222222  0.20833333  0.33898305  0.41666667]\n",
      " [ 0.38888889  0.33333333  0.52542373  0.5       ]\n",
      " [ 0.55555556  0.54166667  0.84745763  1.        ]\n",
      " [ 0.41666667  0.29166667  0.69491525  0.75      ]\n",
      " [ 0.77777778  0.41666667  0.83050847  0.83333333]\n",
      " [ 0.55555556  0.375       0.77966102  0.70833333]\n",
      " [ 0.61111111  0.41666667  0.81355932  0.875     ]\n",
      " [ 0.91666667  0.41666667  0.94915254  0.83333333]\n",
      " [ 0.16666667  0.20833333  0.59322034  0.66666667]\n",
      " [ 0.83333333  0.375       0.89830508  0.70833333]\n",
      " [ 0.66666667  0.20833333  0.81355932  0.70833333]\n",
      " [ 0.80555556  0.66666667  0.86440678  1.        ]\n",
      " [ 0.61111111  0.5         0.69491525  0.79166667]\n",
      " [ 0.58333333  0.29166667  0.72881356  0.75      ]\n",
      " [ 0.69444444  0.41666667  0.76271186  0.83333333]\n",
      " [ 0.38888889  0.20833333  0.6779661   0.79166667]\n",
      " [ 0.41666667  0.33333333  0.69491525  0.95833333]\n",
      " [ 0.58333333  0.5         0.72881356  0.91666667]\n",
      " [ 0.61111111  0.41666667  0.76271186  0.70833333]\n",
      " [ 0.94444444  0.75        0.96610169  0.875     ]\n",
      " [ 0.94444444  0.25        1.          0.91666667]\n",
      " [ 0.47222222  0.08333333  0.6779661   0.58333333]\n",
      " [ 0.72222222  0.5         0.79661017  0.91666667]\n",
      " [ 0.36111111  0.33333333  0.66101695  0.79166667]\n",
      " [ 0.94444444  0.33333333  0.96610169  0.79166667]\n",
      " [ 0.55555556  0.29166667  0.66101695  0.70833333]\n",
      " [ 0.66666667  0.54166667  0.79661017  0.83333333]\n",
      " [ 0.80555556  0.5         0.84745763  0.70833333]\n",
      " [ 0.52777778  0.33333333  0.6440678   0.70833333]\n",
      " [ 0.5         0.41666667  0.66101695  0.70833333]\n",
      " [ 0.58333333  0.33333333  0.77966102  0.83333333]\n",
      " [ 0.80555556  0.41666667  0.81355932  0.625     ]\n",
      " [ 0.86111111  0.33333333  0.86440678  0.75      ]\n",
      " [ 1.          0.75        0.91525424  0.79166667]\n",
      " [ 0.58333333  0.33333333  0.77966102  0.875     ]\n",
      " [ 0.55555556  0.33333333  0.69491525  0.58333333]\n",
      " [ 0.5         0.25        0.77966102  0.54166667]\n",
      " [ 0.94444444  0.41666667  0.86440678  0.91666667]\n",
      " [ 0.55555556  0.58333333  0.77966102  0.95833333]\n",
      " [ 0.58333333  0.45833333  0.76271186  0.70833333]\n",
      " [ 0.47222222  0.41666667  0.6440678   0.70833333]\n",
      " [ 0.72222222  0.45833333  0.74576271  0.83333333]\n",
      " [ 0.66666667  0.45833333  0.77966102  0.95833333]\n",
      " [ 0.72222222  0.45833333  0.69491525  0.91666667]\n",
      " [ 0.41666667  0.29166667  0.69491525  0.75      ]\n",
      " [ 0.69444444  0.5         0.83050847  0.91666667]\n",
      " [ 0.66666667  0.54166667  0.79661017  1.        ]\n",
      " [ 0.66666667  0.41666667  0.71186441  0.91666667]\n",
      " [ 0.55555556  0.20833333  0.6779661   0.75      ]\n",
      " [ 0.61111111  0.41666667  0.71186441  0.79166667]\n",
      " [ 0.52777778  0.58333333  0.74576271  0.91666667]\n",
      " [ 0.44444444  0.41666667  0.69491525  0.70833333]]\n"
     ]
    }
   ],
   "source": [
    "print (X)"
   ]
  },
  {
   "cell_type": "code",
   "execution_count": 6,
   "metadata": {
    "collapsed": true
   },
   "outputs": [],
   "source": [
    "nc = 3         # number of classes\n",
    "W = []         # list for w vectors\n",
    "M = len(X)     # number of x vectors\n",
    "N = len(X[0])  # dimensionality of x vectors"
   ]
  },
  {
   "cell_type": "code",
   "execution_count": 7,
   "metadata": {
    "collapsed": true
   },
   "outputs": [],
   "source": [
    "def get_weights():\n",
    "    y = np.random.random() * (2.0 / np.sqrt(M))\n",
    "    return 0.5 - (1 / np.sqrt(M)) + y"
   ]
  },
  {
   "cell_type": "code",
   "execution_count": 8,
   "metadata": {
    "collapsed": true
   },
   "outputs": [],
   "source": [
    "for i in range(nc):\n",
    "    W.append(list())\n",
    "    for j in range(N):\n",
    "        W[i].append(get_weights() * 0.5)"
   ]
  },
  {
   "cell_type": "code",
   "execution_count": 9,
   "metadata": {
    "collapsed": true
   },
   "outputs": [],
   "source": [
    "def distance(w, x):\n",
    "    r = 0\n",
    "    for i in range(len(w)):\n",
    "        r = r + (w[i] - x[i])*(w[i] - x[i])\n",
    "    \n",
    "    r = np.sqrt(r)\n",
    "    return r"
   ]
  },
  {
   "cell_type": "code",
   "execution_count": 10,
   "metadata": {
    "collapsed": true
   },
   "outputs": [],
   "source": [
    "def Findclosest(W, x):\n",
    "    wm = W[0]\n",
    "    r = distance(wm, x)\n",
    "    \n",
    "    i = 0\n",
    "    i_n = i\n",
    "    \n",
    "    for w in W:\n",
    "        if distance(w, x) < r:\n",
    "            r = distance(w, x)\n",
    "            wm = w\n",
    "            i_n = i\n",
    "        i = i + 1\n",
    "    \n",
    "    return (wm, i_n)"
   ]
  },
  {
   "cell_type": "code",
   "execution_count": 11,
   "metadata": {},
   "outputs": [
    {
     "name": "stdout",
     "output_type": "stream",
     "text": [
      "[[0.26248757725969107, 0.2550877752455607, 0.26798881798361374, 0.21424487703069942], [0.25152412185511314, 0.26745894958836658, 0.28950583222420906, 0.24036104366360331], [0.27487658136897475, 0.24233009927819765, 0.27183418337333165, 0.21299801279461131]]\n"
     ]
    }
   ],
   "source": [
    "print(W)"
   ]
  },
  {
   "cell_type": "code",
   "execution_count": 12,
   "metadata": {
    "collapsed": true
   },
   "outputs": [],
   "source": [
    "la = 0.3    # λ coefficient\n",
    "dla = 0.05  # Δλ\n",
    "\n",
    "while la >= 0:\n",
    "    for k in range(10):\n",
    "        for x in X:\n",
    "            wm = Findclosest(W, x)[0]\n",
    "            for i in range(len(wm)):\n",
    "                wm[i] = wm[i] + la * (x[i] - wm[i]) \n",
    "\n",
    "    la = la - dla "
   ]
  },
  {
   "cell_type": "code",
   "execution_count": 13,
   "metadata": {
    "collapsed": true
   },
   "outputs": [],
   "source": [
    "Data = list() \n",
    "\n",
    "for i in range(len(W)):\n",
    "    Data.append(list())\n",
    "\n",
    "dfList = ds['class'].as_matrix()"
   ]
  },
  {
   "cell_type": "code",
   "execution_count": 14,
   "metadata": {},
   "outputs": [
    {
     "name": "stdout",
     "output_type": "stream",
     "text": [
      "[[0, 'Iris-setosa'], [0, 'Iris-setosa'], [0, 'Iris-setosa'], [0, 'Iris-setosa'], [0, 'Iris-setosa'], [0, 'Iris-setosa'], [0, 'Iris-setosa'], [0, 'Iris-setosa'], [0, 'Iris-setosa'], [0, 'Iris-setosa'], [0, 'Iris-setosa'], [0, 'Iris-setosa'], [0, 'Iris-setosa'], [0, 'Iris-setosa'], [0, 'Iris-setosa'], [0, 'Iris-setosa'], [0, 'Iris-setosa'], [0, 'Iris-setosa'], [0, 'Iris-setosa'], [0, 'Iris-setosa'], [0, 'Iris-setosa'], [0, 'Iris-setosa'], [0, 'Iris-setosa'], [0, 'Iris-setosa'], [0, 'Iris-setosa'], [0, 'Iris-setosa'], [0, 'Iris-setosa'], [0, 'Iris-setosa'], [0, 'Iris-setosa'], [0, 'Iris-setosa'], [0, 'Iris-setosa'], [0, 'Iris-setosa'], [0, 'Iris-setosa'], [0, 'Iris-setosa'], [0, 'Iris-setosa'], [0, 'Iris-setosa'], [0, 'Iris-setosa'], [0, 'Iris-setosa'], [0, 'Iris-setosa'], [0, 'Iris-setosa'], [0, 'Iris-setosa'], [0, 'Iris-setosa'], [0, 'Iris-setosa'], [0, 'Iris-setosa'], [0, 'Iris-setosa'], [0, 'Iris-setosa'], [0, 'Iris-setosa'], [0, 'Iris-setosa'], [0, 'Iris-setosa'], [0, 'Iris-setosa'], [1, 'Iris-versicolor'], [2, 'Iris-versicolor'], [1, 'Iris-versicolor'], [2, 'Iris-versicolor'], [2, 'Iris-versicolor'], [2, 'Iris-versicolor'], [2, 'Iris-versicolor'], [2, 'Iris-versicolor'], [2, 'Iris-versicolor'], [2, 'Iris-versicolor'], [2, 'Iris-versicolor'], [2, 'Iris-versicolor'], [2, 'Iris-versicolor'], [2, 'Iris-versicolor'], [2, 'Iris-versicolor'], [2, 'Iris-versicolor'], [2, 'Iris-versicolor'], [2, 'Iris-versicolor'], [2, 'Iris-versicolor'], [2, 'Iris-versicolor'], [2, 'Iris-versicolor'], [2, 'Iris-versicolor'], [2, 'Iris-versicolor'], [2, 'Iris-versicolor'], [2, 'Iris-versicolor'], [2, 'Iris-versicolor'], [2, 'Iris-versicolor'], [1, 'Iris-versicolor'], [2, 'Iris-versicolor'], [2, 'Iris-versicolor'], [2, 'Iris-versicolor'], [2, 'Iris-versicolor'], [2, 'Iris-versicolor'], [2, 'Iris-versicolor'], [2, 'Iris-versicolor'], [2, 'Iris-versicolor'], [2, 'Iris-versicolor'], [2, 'Iris-versicolor'], [2, 'Iris-versicolor'], [2, 'Iris-versicolor'], [2, 'Iris-versicolor'], [2, 'Iris-versicolor'], [2, 'Iris-versicolor'], [2, 'Iris-versicolor'], [2, 'Iris-versicolor'], [2, 'Iris-versicolor'], [2, 'Iris-versicolor'], [2, 'Iris-versicolor'], [2, 'Iris-versicolor'], [2, 'Iris-versicolor'], [1, 'Iris-virginica'], [2, 'Iris-virginica'], [1, 'Iris-virginica'], [1, 'Iris-virginica'], [1, 'Iris-virginica'], [1, 'Iris-virginica'], [2, 'Iris-virginica'], [1, 'Iris-virginica'], [1, 'Iris-virginica'], [1, 'Iris-virginica'], [1, 'Iris-virginica'], [2, 'Iris-virginica'], [1, 'Iris-virginica'], [2, 'Iris-virginica'], [1, 'Iris-virginica'], [1, 'Iris-virginica'], [1, 'Iris-virginica'], [1, 'Iris-virginica'], [1, 'Iris-virginica'], [2, 'Iris-virginica'], [1, 'Iris-virginica'], [2, 'Iris-virginica'], [1, 'Iris-virginica'], [2, 'Iris-virginica'], [1, 'Iris-virginica'], [1, 'Iris-virginica'], [2, 'Iris-virginica'], [2, 'Iris-virginica'], [1, 'Iris-virginica'], [1, 'Iris-virginica'], [1, 'Iris-virginica'], [1, 'Iris-virginica'], [1, 'Iris-virginica'], [2, 'Iris-virginica'], [2, 'Iris-virginica'], [1, 'Iris-virginica'], [1, 'Iris-virginica'], [1, 'Iris-virginica'], [2, 'Iris-virginica'], [1, 'Iris-virginica'], [1, 'Iris-virginica'], [1, 'Iris-virginica'], [2, 'Iris-virginica'], [1, 'Iris-virginica'], [1, 'Iris-virginica'], [1, 'Iris-virginica'], [2, 'Iris-virginica'], [1, 'Iris-virginica'], [1, 'Iris-virginica'], [2, 'Iris-virginica']]\n"
     ]
    }
   ],
   "source": [
    "DS = list()\n",
    "i = 0\n",
    "for x in X:\n",
    "    i_n = Findclosest(W, x)[1]\n",
    "    Data[i_n].append(x)\n",
    "    DS.append([i_n, dfList[i]])\n",
    "    i = i + 1\n",
    "\n",
    "print (DS) "
   ]
  },
  {
   "cell_type": "code",
   "execution_count": null,
   "metadata": {
    "collapsed": true
   },
   "outputs": [],
   "source": []
  }
 ],
 "metadata": {
  "kernelspec": {
   "display_name": "Python 3",
   "language": "python",
   "name": "python3"
  },
  "language_info": {
   "codemirror_mode": {
    "name": "ipython",
    "version": 3
   },
   "file_extension": ".py",
   "mimetype": "text/x-python",
   "name": "python",
   "nbconvert_exporter": "python",
   "pygments_lexer": "ipython3",
   "version": "3.6.1"
  }
 },
 "nbformat": 4,
 "nbformat_minor": 2
}
