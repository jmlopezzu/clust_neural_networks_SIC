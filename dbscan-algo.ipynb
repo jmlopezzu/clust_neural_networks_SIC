{
 "cells": [
  {
   "cell_type": "code",
   "execution_count": 1,
   "metadata": {},
   "outputs": [
    {
     "data": {
      "image/png": "[encoded data removed]",
      "text/plain": [
       "<matplotlib.figure.Figure at 0x4f48b38>"
      ]
     },
     "metadata": {},
     "output_type": "display_data"
    }
   ],
   "source": [
    "from sklearn.cluster import DBSCAN\n",
    "import numpy as np\n",
    "import matplotlib.pyplot as plt\n",
    " \n",
    "\n",
    "\n",
    "x1=np.array([1.4, 2, 1.5, 1.9, 2.1, 1.9, 2.2, 2.7, 2.2, 2.5, 2.4, 1.7, 2.3, 2.1, 1.6,\n",
    "             4.9, 4.7, 4, 4.1, 4.2, 4.6, 4.7, 5.1, 5.3, 5.4, 4.1, 4.5, 4.6, 4.5, 3.8,  \n",
    "             3.5, 4, 4.5, 3.7, 3.7, 3.6, 3.5, 3.6, 3.7, 3.7, 3.8, 3.9, 4, 4.2, 3.9, 3.7])\n",
    "x2=np.array([2, 1.4, 1.5, 6, 3, 4, 5, 7, 7.2, 7.5, 6, 2, 4, 2.3, 2.8, \n",
    "             8, 7, 1, 2, 3, 4, 5, 6, 7, 8, 5.3, 4.5, 5.8, 2.8, 2.4,  \n",
    "             10, 13, 13.2, 11, 8.8, 8.4, 8.9, 10.2, 11.1, 11.7, 12.4, 12.8, 11, 12.5, 11.6, 10.1]) \n",
    "\n",
    "plt.scatter(x1, x2)\n",
    "plt.show()"
   ]
  },
  {
   "cell_type": "code",
   "execution_count": 2,
   "metadata": {
    "collapsed": true
   },
   "outputs": [],
   "source": [
    "X = np.array(list(zip(x1, x2)))\n",
    "dbscan = DBSCAN(eps=1.3, min_samples=3).fit(X)"
   ]
  },
  {
   "cell_type": "code",
   "execution_count": 3,
   "metadata": {},
   "outputs": [
    {
     "name": "stdout",
     "output_type": "stream",
     "text": [
      "DBSCAN(algorithm='auto', eps=1.3, leaf_size=30, metric='euclidean',\n",
      "    min_samples=3, n_jobs=1, p=None)\n"
     ]
    }
   ],
   "source": [
    "print(dbscan)"
   ]
  },
  {
   "cell_type": "code",
   "execution_count": 4,
   "metadata": {},
   "outputs": [
    {
     "data": {
      "text/plain": [
       "array([0, 0, 0, 0, 0, 0, 0, 0, 0, 0, 0, 0, 0, 0, 0, 1, 1, 1, 1, 1, 1, 1, 1,\n",
       "       1, 1, 1, 1, 1, 1, 1, 2, 2, 2, 2, 2, 2, 2, 2, 2, 2, 2, 2, 2, 2, 2, 2], dtype=int64)"
      ]
     },
     "execution_count": 4,
     "metadata": {},
     "output_type": "execute_result"
    }
   ],
   "source": [
    "dbscan.labels_"
   ]
  },
  {
   "cell_type": "code",
   "execution_count": 7,
   "metadata": {},
   "outputs": [
    {
     "data": {
      "image/png": "[encoded data removed]",
      "text/plain": [
       "<matplotlib.figure.Figure at 0x4f4d6d8>"
      ]
     },
     "metadata": {},
     "output_type": "display_data"
    }
   ],
   "source": [
    "colors = [\"g.\", \"r.\", \"b.\"]\n",
    "for i in range(len(X)) :\n",
    "    \n",
    "    plt.plot(X[i][0], X[i][1], colors[dbscan.labels_[i]])\n",
    "plt.show()    "
   ]
  },
  {
   "cell_type": "code",
   "execution_count": null,
   "metadata": {
    "collapsed": true
   },
   "outputs": [],
   "source": []
  }
 ],
 "metadata": {
  "kernelspec": {
   "display_name": "Python 3.10.9 64-bit",
   "language": "python",
   "name": "python3"
  },
  "language_info": {
   "codemirror_mode": {
    "name": "ipython",
    "version": 3
   },
   "file_extension": ".py",
   "mimetype": "text/x-python",
   "name": "python",
   "nbconvert_exporter": "python",
   "pygments_lexer": "ipython3",
   "version": "3.10.9"
  },
  "vscode": {
   "interpreter": {
    "hash": "b0fa6594d8f4cbf19f97940f81e996739fb7646882a419484c72d19e05852a7e"
   }
  }
 },
 "nbformat": 4,
 "nbformat_minor": 2
}
