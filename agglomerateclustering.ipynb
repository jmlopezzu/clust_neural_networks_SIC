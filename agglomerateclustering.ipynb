{
 "cells": [
  {
   "cell_type": "code",
   "execution_count": 7,
   "metadata": {},
   "outputs": [
    {
     "data": {
      "text/html": [
       "<div>\n",
       "<style>\n",
       "    .dataframe thead tr:only-child th {\n",
       "        text-align: right;\n",
       "    }\n",
       "\n",
       "    .dataframe thead th {\n",
       "        text-align: left;\n",
       "    }\n",
       "\n",
       "    .dataframe tbody tr th {\n",
       "        vertical-align: top;\n",
       "    }\n",
       "</style>\n",
       "<table border=\"1\" class=\"dataframe\">\n",
       "  <thead>\n",
       "    <tr style=\"text-align: right;\">\n",
       "      <th></th>\n",
       "      <th>Country</th>\n",
       "      <th>Control of Corruption</th>\n",
       "      <th>Government Effectiveness</th>\n",
       "      <th>Political Stability</th>\n",
       "      <th>Regulatory Quality</th>\n",
       "      <th>Rule of Law</th>\n",
       "      <th>Voice and Accountability</th>\n",
       "    </tr>\n",
       "  </thead>\n",
       "  <tbody>\n",
       "    <tr>\n",
       "      <th>0</th>\n",
       "      <td>Armenia</td>\n",
       "      <td>-0.451385</td>\n",
       "      <td>-0.135415</td>\n",
       "      <td>-0.291859</td>\n",
       "      <td>0.248901</td>\n",
       "      <td>-0.343095</td>\n",
       "      <td>-0.536519</td>\n",
       "    </tr>\n",
       "    <tr>\n",
       "      <th>1</th>\n",
       "      <td>Belgium</td>\n",
       "      <td>1.582632</td>\n",
       "      <td>1.441359</td>\n",
       "      <td>0.603097</td>\n",
       "      <td>1.277324</td>\n",
       "      <td>1.421055</td>\n",
       "      <td>1.392743</td>\n",
       "    </tr>\n",
       "    <tr>\n",
       "      <th>2</th>\n",
       "      <td>Brazil</td>\n",
       "      <td>-0.432713</td>\n",
       "      <td>-0.189014</td>\n",
       "      <td>-0.379241</td>\n",
       "      <td>-0.212530</td>\n",
       "      <td>-0.192782</td>\n",
       "      <td>0.383081</td>\n",
       "    </tr>\n",
       "    <tr>\n",
       "      <th>3</th>\n",
       "      <td>Chad</td>\n",
       "      <td>-1.292505</td>\n",
       "      <td>-1.450364</td>\n",
       "      <td>-0.986351</td>\n",
       "      <td>-1.196029</td>\n",
       "      <td>-1.161228</td>\n",
       "      <td>-1.351856</td>\n",
       "    </tr>\n",
       "    <tr>\n",
       "      <th>4</th>\n",
       "      <td>Czech Republic</td>\n",
       "      <td>0.390839</td>\n",
       "      <td>1.051496</td>\n",
       "      <td>0.959901</td>\n",
       "      <td>1.084800</td>\n",
       "      <td>1.123225</td>\n",
       "      <td>1.019538</td>\n",
       "    </tr>\n",
       "    <tr>\n",
       "      <th>5</th>\n",
       "      <td>Finland</td>\n",
       "      <td>2.283533</td>\n",
       "      <td>1.822501</td>\n",
       "      <td>1.038719</td>\n",
       "      <td>1.828457</td>\n",
       "      <td>2.073493</td>\n",
       "      <td>1.560110</td>\n",
       "    </tr>\n",
       "    <tr>\n",
       "      <th>6</th>\n",
       "      <td>Haiti</td>\n",
       "      <td>-1.257345</td>\n",
       "      <td>-2.002146</td>\n",
       "      <td>-0.729088</td>\n",
       "      <td>-1.159087</td>\n",
       "      <td>-1.166457</td>\n",
       "      <td>-0.836118</td>\n",
       "    </tr>\n",
       "    <tr>\n",
       "      <th>7</th>\n",
       "      <td>Japan</td>\n",
       "      <td>1.608630</td>\n",
       "      <td>1.791388</td>\n",
       "      <td>0.977663</td>\n",
       "      <td>1.177005</td>\n",
       "      <td>1.511390</td>\n",
       "      <td>1.022507</td>\n",
       "    </tr>\n",
       "    <tr>\n",
       "      <th>8</th>\n",
       "      <td>Liberia</td>\n",
       "      <td>-0.610637</td>\n",
       "      <td>-1.367291</td>\n",
       "      <td>-0.738625</td>\n",
       "      <td>-0.881921</td>\n",
       "      <td>-0.870829</td>\n",
       "      <td>-0.258795</td>\n",
       "    </tr>\n",
       "    <tr>\n",
       "      <th>9</th>\n",
       "      <td>Mauritania</td>\n",
       "      <td>-0.906050</td>\n",
       "      <td>-1.028588</td>\n",
       "      <td>-0.656419</td>\n",
       "      <td>-0.858530</td>\n",
       "      <td>-0.820225</td>\n",
       "      <td>-0.907473</td>\n",
       "    </tr>\n",
       "    <tr>\n",
       "      <th>10</th>\n",
       "      <td>Netherlands</td>\n",
       "      <td>1.892111</td>\n",
       "      <td>1.841793</td>\n",
       "      <td>0.929998</td>\n",
       "      <td>1.768844</td>\n",
       "      <td>1.934686</td>\n",
       "      <td>1.569623</td>\n",
       "    </tr>\n",
       "    <tr>\n",
       "      <th>11</th>\n",
       "      <td>Philippines</td>\n",
       "      <td>-0.430052</td>\n",
       "      <td>0.107092</td>\n",
       "      <td>-0.838326</td>\n",
       "      <td>-0.036930</td>\n",
       "      <td>-0.345095</td>\n",
       "      <td>0.136829</td>\n",
       "    </tr>\n",
       "    <tr>\n",
       "      <th>12</th>\n",
       "      <td>Russian Federation</td>\n",
       "      <td>-0.862619</td>\n",
       "      <td>-0.182620</td>\n",
       "      <td>-1.049051</td>\n",
       "      <td>-0.522403</td>\n",
       "      <td>-0.719673</td>\n",
       "      <td>-1.067474</td>\n",
       "    </tr>\n",
       "    <tr>\n",
       "      <th>13</th>\n",
       "      <td>Slovenia</td>\n",
       "      <td>0.726810</td>\n",
       "      <td>0.973970</td>\n",
       "      <td>0.919430</td>\n",
       "      <td>0.620738</td>\n",
       "      <td>0.953715</td>\n",
       "      <td>0.945217</td>\n",
       "    </tr>\n",
       "    <tr>\n",
       "      <th>14</th>\n",
       "      <td>Tajikistan</td>\n",
       "      <td>-0.997935</td>\n",
       "      <td>-0.819396</td>\n",
       "      <td>-0.866736</td>\n",
       "      <td>-1.006108</td>\n",
       "      <td>-1.009642</td>\n",
       "      <td>-1.512956</td>\n",
       "    </tr>\n",
       "    <tr>\n",
       "      <th>15</th>\n",
       "      <td>United Kingdom</td>\n",
       "      <td>1.867393</td>\n",
       "      <td>1.738755</td>\n",
       "      <td>0.556856</td>\n",
       "      <td>1.855618</td>\n",
       "      <td>1.805057</td>\n",
       "      <td>1.270090</td>\n",
       "    </tr>\n",
       "    <tr>\n",
       "      <th>16</th>\n",
       "      <td>United States</td>\n",
       "      <td>1.378527</td>\n",
       "      <td>1.461995</td>\n",
       "      <td>0.699095</td>\n",
       "      <td>1.297577</td>\n",
       "      <td>1.603706</td>\n",
       "      <td>1.075170</td>\n",
       "    </tr>\n",
       "    <tr>\n",
       "      <th>17</th>\n",
       "      <td>Uruguay</td>\n",
       "      <td>1.298154</td>\n",
       "      <td>0.540124</td>\n",
       "      <td>0.989900</td>\n",
       "      <td>0.452428</td>\n",
       "      <td>0.675225</td>\n",
       "      <td>1.121650</td>\n",
       "    </tr>\n",
       "    <tr>\n",
       "      <th>18</th>\n",
       "      <td>Vietnam</td>\n",
       "      <td>-0.447043</td>\n",
       "      <td>0.076964</td>\n",
       "      <td>0.010676</td>\n",
       "      <td>-0.496354</td>\n",
       "      <td>-0.268542</td>\n",
       "      <td>-1.328915</td>\n",
       "    </tr>\n",
       "    <tr>\n",
       "      <th>19</th>\n",
       "      <td>Zimbabwe</td>\n",
       "      <td>-1.286892</td>\n",
       "      <td>-1.147969</td>\n",
       "      <td>-0.577252</td>\n",
       "      <td>-1.646901</td>\n",
       "      <td>-1.349086</td>\n",
       "      <td>-1.192694</td>\n",
       "    </tr>\n",
       "  </tbody>\n",
       "</table>\n",
       "</div>"
      ],
      "text/plain": [
       "               Country  Control of Corruption  Government Effectiveness  \\\n",
       "0              Armenia              -0.451385                 -0.135415   \n",
       "1              Belgium               1.582632                  1.441359   \n",
       "2               Brazil              -0.432713                 -0.189014   \n",
       "3                 Chad              -1.292505                 -1.450364   \n",
       "4       Czech Republic               0.390839                  1.051496   \n",
       "5              Finland               2.283533                  1.822501   \n",
       "6                Haiti              -1.257345                 -2.002146   \n",
       "7                Japan               1.608630                  1.791388   \n",
       "8              Liberia              -0.610637                 -1.367291   \n",
       "9           Mauritania              -0.906050                 -1.028588   \n",
       "10         Netherlands               1.892111                  1.841793   \n",
       "11         Philippines              -0.430052                  0.107092   \n",
       "12  Russian Federation              -0.862619                 -0.182620   \n",
       "13            Slovenia               0.726810                  0.973970   \n",
       "14          Tajikistan              -0.997935                 -0.819396   \n",
       "15      United Kingdom               1.867393                  1.738755   \n",
       "16       United States               1.378527                  1.461995   \n",
       "17             Uruguay               1.298154                  0.540124   \n",
       "18             Vietnam              -0.447043                  0.076964   \n",
       "19            Zimbabwe              -1.286892                 -1.147969   \n",
       "\n",
       "    Political Stability  Regulatory Quality  Rule of Law  \\\n",
       "0             -0.291859            0.248901    -0.343095   \n",
       "1              0.603097            1.277324     1.421055   \n",
       "2             -0.379241           -0.212530    -0.192782   \n",
       "3             -0.986351           -1.196029    -1.161228   \n",
       "4              0.959901            1.084800     1.123225   \n",
       "5              1.038719            1.828457     2.073493   \n",
       "6             -0.729088           -1.159087    -1.166457   \n",
       "7              0.977663            1.177005     1.511390   \n",
       "8             -0.738625           -0.881921    -0.870829   \n",
       "9             -0.656419           -0.858530    -0.820225   \n",
       "10             0.929998            1.768844     1.934686   \n",
       "11            -0.838326           -0.036930    -0.345095   \n",
       "12            -1.049051           -0.522403    -0.719673   \n",
       "13             0.919430            0.620738     0.953715   \n",
       "14            -0.866736           -1.006108    -1.009642   \n",
       "15             0.556856            1.855618     1.805057   \n",
       "16             0.699095            1.297577     1.603706   \n",
       "17             0.989900            0.452428     0.675225   \n",
       "18             0.010676           -0.496354    -0.268542   \n",
       "19            -0.577252           -1.646901    -1.349086   \n",
       "\n",
       "    Voice and Accountability  \n",
       "0                  -0.536519  \n",
       "1                   1.392743  \n",
       "2                   0.383081  \n",
       "3                  -1.351856  \n",
       "4                   1.019538  \n",
       "5                   1.560110  \n",
       "6                  -0.836118  \n",
       "7                   1.022507  \n",
       "8                  -0.258795  \n",
       "9                  -0.907473  \n",
       "10                  1.569623  \n",
       "11                  0.136829  \n",
       "12                 -1.067474  \n",
       "13                  0.945217  \n",
       "14                 -1.512956  \n",
       "15                  1.270090  \n",
       "16                  1.075170  \n",
       "17                  1.121650  \n",
       "18                 -1.328915  \n",
       "19                 -1.192694  "
      ]
     },
     "execution_count": 7,
     "metadata": {},
     "output_type": "execute_result"
    }
   ],
   "source": [
    "import pandas as pd\n",
    "import matplotlib.pyplot as plt\n",
    "from scipy.cluster.hierarchy import dendrogram, linkage\n",
    "\n",
    "\n",
    "\n",
    "\n",
    "X=pd.read_table(\"https://raw.githubusercontent.com/ArtemKovera/clust/master/datacountriesshort.csv\", sep=\";\")\n",
    "X"
   ]
  },
  {
   "cell_type": "code",
   "execution_count": 12,
   "metadata": {
    "collapsed": true
   },
   "outputs": [],
   "source": [
    "X.drop('Country', axis=1, inplace=True)"
   ]
  },
  {
   "cell_type": "code",
   "execution_count": 14,
   "metadata": {},
   "outputs": [
    {
     "data": {
      "image/png": "[encoded data removed]",
      "text/plain": [
       "<matplotlib.figure.Figure at 0x9c15a90>"
      ]
     },
     "metadata": {},
     "output_type": "display_data"
    }
   ],
   "source": [
    "Z = linkage(X, 'complete')\n",
    "plt.figure(figsize=(10, 4))\n",
    "dendrogram(Z)\n",
    "plt.title('Hierarchical Clustering Dendrogram - Complete Linkage')\n",
    "plt.show()"
   ]
  },
  {
   "cell_type": "code",
   "execution_count": 16,
   "metadata": {},
   "outputs": [
    {
     "data": {
      "image/png": "[encoded data removed]",
      "text/plain": [
       "<matplotlib.figure.Figure at 0xa323ac8>"
      ]
     },
     "metadata": {},
     "output_type": "display_data"
    }
   ],
   "source": [
    "Z = linkage(X, 'single')\n",
    "plt.figure(figsize=(10, 4))\n",
    "dendrogram(Z)\n",
    "plt.title('Hierarchical Clustering Dendrogram - Single Linkage')\n",
    "plt.show()"
   ]
  },
  {
   "cell_type": "code",
   "execution_count": 8,
   "metadata": {},
   "outputs": [
    {
     "data": {
      "image/png": "[encoded data removed]",
      "text/plain": [
       "<matplotlib.figure.Figure at 0x980f940>"
      ]
     },
     "metadata": {},
     "output_type": "display_data"
    }
   ],
   "source": [
    "Z = linkage(X, 'average')\n",
    "plt.figure(figsize=(10, 4))\n",
    "dendrogram(Z)\n",
    "plt.title('Hierarchical Clustering Dendrogram - Average Linkage')\n",
    "plt.show()"
   ]
  },
  {
   "cell_type": "code",
   "execution_count": 35,
   "metadata": {},
   "outputs": [
    {
     "data": {
      "image/png": "[encoded data removed]",
      "text/plain": [
       "<matplotlib.figure.Figure at 0xa66bc18>"
      ]
     },
     "metadata": {},
     "output_type": "display_data"
    }
   ],
   "source": [
    "Z = linkage(X, 'weighted')\n",
    "plt.figure(figsize=(10, 4))\n",
    "dendrogram(Z)\n",
    "plt.title('Hierarchical Clustering Dendrogram')\n",
    "plt.show()\n"
   ]
  },
  {
   "cell_type": "code",
   "execution_count": 9,
   "metadata": {},
   "outputs": [
    {
     "data": {
      "image/png": "[encoded data removed]",
      "text/plain": [
       "<matplotlib.figure.Figure at 0x9ae4d30>"
      ]
     },
     "metadata": {},
     "output_type": "display_data"
    }
   ],
   "source": [
    "Z = linkage(X, 'centroid')\n",
    "plt.figure(figsize=(10, 4))\n",
    "dendrogram(Z)\n",
    "plt.title('Hierarchical Clustering Dendrogram - Centroid Linkage')\n",
    "plt.show()"
   ]
  },
  {
   "cell_type": "code",
   "execution_count": 37,
   "metadata": {},
   "outputs": [
    {
     "data": {
      "image/png": "[encoded data removed]",
      "text/plain": [
       "<matplotlib.figure.Figure at 0xa2363c8>"
      ]
     },
     "metadata": {},
     "output_type": "display_data"
    }
   ],
   "source": [
    "Z = linkage(X, 'median')\n",
    "plt.figure(figsize=(10, 4))\n",
    "dendrogram(Z)\n",
    "plt.title('Hierarchical Clustering Dendrogram')\n",
    "plt.show()"
   ]
  },
  {
   "cell_type": "code",
   "execution_count": 10,
   "metadata": {},
   "outputs": [
    {
     "data": {
      "image/png": "[encoded data removed]",
      "text/plain": [
       "<matplotlib.figure.Figure at 0x9ad08d0>"
      ]
     },
     "metadata": {},
     "output_type": "display_data"
    }
   ],
   "source": [
    "Z = linkage(X, 'ward')\n",
    "plt.figure(figsize=(10, 4))\n",
    "dendrogram(Z)\n",
    "plt.title('Hierarchical Clustering Dendrogram - Ward Linkage')\n",
    "plt.show()"
   ]
  },
  {
   "cell_type": "code",
   "execution_count": null,
   "metadata": {
    "collapsed": true
   },
   "outputs": [],
   "source": []
  }
 ],
 "metadata": {
  "kernelspec": {
   "display_name": "Python 3",
   "language": "python",
   "name": "python3"
  },
  "language_info": {
   "codemirror_mode": {
    "name": "ipython",
    "version": 3
   },
   "file_extension": ".py",
   "mimetype": "text/x-python",
   "name": "python",
   "nbconvert_exporter": "python",
   "pygments_lexer": "ipython3",
   "version": "3.6.1"
  }
 },
 "nbformat": 4,
 "nbformat_minor": 2
}
