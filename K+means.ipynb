{
 "cells": [
  {
   "cell_type": "code",
   "execution_count": 1,
   "metadata": {},
   "outputs": [],
   "source": [
    "import pandas as pd\n",
    "from sklearn.cluster import KMeans\n",
    "import matplotlib.pyplot as plt\n",
    "\n",
    "X=pd.read_table(\"https://raw.githubusercontent.com/ArtemKovera/clust/master/db2.csv\", sep=\";\")\n",
    "\n"
   ]
  },
  {
   "cell_type": "code",
   "execution_count": 2,
   "metadata": {
    "collapsed": true
   },
   "outputs": [],
   "source": [
    "X.set_index('Country', inplace=True)"
   ]
  },
  {
   "cell_type": "code",
   "execution_count": 3,
   "metadata": {},
   "outputs": [
    {
     "data": {
      "text/plain": [
       "KMeans(algorithm='auto', copy_x=True, init='k-means++', max_iter=300,\n",
       "    n_clusters=2, n_init=10, n_jobs=1, precompute_distances='auto',\n",
       "    random_state=None, tol=0.0001, verbose=0)"
      ]
     },
     "execution_count": 3,
     "metadata": {},
     "output_type": "execute_result"
    }
   ],
   "source": [
    "km=KMeans(n_clusters=2) #n_clusters - the number of clusters\n",
    "km.fit(X)"
   ]
  },
  {
   "cell_type": "code",
   "execution_count": 4,
   "metadata": {},
   "outputs": [
    {
     "name": "stdout",
     "output_type": "stream",
     "text": [
      "{'Afghanistan': 0, 'Albania': 0, 'Algeria': 0, 'Andorra': 1, 'Angola': 0, 'Antigua and Barbuda': 1, 'Argentina': 0, 'Armenia': 0, 'Aruba': 1, 'Australia': 1, 'Austria': 1, 'Azerbaijan': 0, 'Bahamas. The': 1, 'Bahrain': 0, 'Bangladesh': 0, 'Barbados': 1, 'Belarus': 0, 'Belgium': 1, 'Belize': 0, 'Benin': 0, 'Bhutan': 1, 'Bolivia': 0, 'Bosnia and Herzegovina': 0, 'Botswana': 1, 'Brazil': 0, 'Brunei Darussalam': 1, 'Bulgaria': 0, 'Burkina Faso': 0, 'Burundi': 0, 'Cabo Verde': 1, 'Cambodia': 0, 'Cameroon': 0, 'Canada': 1, 'Cayman Islands': 1, 'Central African Republic': 0, 'Chad': 0, 'Chile': 1, 'China': 0, 'Colombia': 0, 'Comoros': 0, 'Congo. Dem. Rep.': 0, 'Congo. Rep.': 0, 'Costa Rica': 1, \"Cote d'Ivoire\": 0, 'Croatia': 1, 'Cuba': 0, 'Cyprus': 1, 'Czech Republic': 1, 'Denmark': 1, 'Djibouti': 0, 'Dominica': 1, 'Dominican Republic': 0, 'Ecuador': 0, 'Egypt. Arab Rep.': 0, 'El Salvador': 0, 'Equatorial Guinea': 0, 'Eritrea': 0, 'Estonia': 1, 'Ethiopia': 0, 'Fiji': 0, 'Finland': 1, 'France': 1, 'French Guiana': 1, 'Gabon': 0, 'Gambia. The': 0, 'Georgia': 1, 'Germany': 1, 'Ghana': 0, 'Greece': 0, 'Greenland': 1, 'Grenada': 1, 'Guatemala': 0, 'Guinea': 0, 'Guinea-Bissau': 0, 'Guyana': 0, 'Haiti': 0, 'Honduras': 0, 'Hong Kong SAR. China': 1, 'Hungary': 1, 'Iceland': 1, 'India': 0, 'Indonesia': 0, 'Iran. Islamic Rep.': 0, 'Iraq': 0, 'Ireland': 1, 'Israel': 1, 'Italy': 1, 'Jamaica': 0, 'Japan': 1, 'Jersey. Channel Islands': 1, 'Jordan': 0, 'Kazakhstan': 0, 'Kenya': 0, 'Kiribati': 0, 'Korea. Dem. People?s Rep.': 0, 'Korea. Rep.': 1, 'Kosovo': 0, 'Kuwait': 0, 'Kyrgyz Republic': 0, 'Lao PDR': 0, 'Latvia': 1, 'Lebanon': 0, 'Lesotho': 0, 'Liberia': 0, 'Libya': 0, 'Liechtenstein': 1, 'Lithuania': 1, 'Luxembourg': 1, 'Macao SAR. China': 1, 'Macedonia. FYR': 0, 'Madagascar': 0, 'Malawi': 0, 'Malaysia': 1, 'Maldives': 0, 'Mali': 0, 'Malta': 1, 'Marshall Islands': 0, 'Mauritania': 0, 'Mauritius': 1, 'Mexico': 0, 'Micronesia. Fed. Sts.': 0, 'Moldova': 0, 'Mongolia': 0, 'Montenegro': 0, 'Morocco': 0, 'Mozambique': 0, 'Myanmar': 0, 'Namibia': 1, 'Nauru': 0, 'Nepal': 0, 'Netherlands': 1, 'New Zealand': 1, 'Nicaragua': 0, 'Niger': 0, 'Nigeria': 0, 'Norway': 1, 'Oman': 0, 'Pakistan': 0, 'Palau': 0, 'Panama': 0, 'Papua New Guinea': 0, 'Paraguay': 0, 'Peru': 0, 'Philippines': 0, 'Poland': 1, 'Portugal': 1, 'Puerto Rico': 1, 'Qatar': 1, 'Romania': 0, 'Russian Federation': 0, 'Rwanda': 0, 'Samoa': 1, 'Saudi Arabia': 0, 'Senegal': 0, 'Serbia': 0, 'Seychelles': 1, 'Sierra Leone': 0, 'Singapore': 1, 'Slovak Republic': 1, 'Slovenia': 1, 'Somalia': 0, 'South Africa': 0, 'South Sudan': 0, 'Spain': 1, 'Sri Lanka': 0, 'Sudan': 0, 'Suriname': 0, 'Swaziland': 0, 'Sweden': 1, 'Switzerland': 1, 'Syrian Arab Republic': 0, 'Taiwan. China': 1, 'Tajikistan': 0, 'Tanzania': 0, 'Thailand': 0, 'Timor-Leste': 0, 'Togo': 0, 'Tonga': 0, 'Trinidad and Tobago': 0, 'Tunisia': 0, 'Turkey': 0, 'Turkmenistan': 0, 'Tuvalu': 0, 'Uganda': 0, 'Ukraine': 0, 'United Arab Emirates': 1, 'United Kingdom': 1, 'United States': 1, 'Uruguay': 1, 'Uzbekistan': 0, 'Vanuatu': 0, 'Venezuela. RB': 0, 'Vietnam': 0, 'Yemen. Rep.': 0, 'Zambia': 0, 'Zimbabwe': 0}\n"
     ]
    }
   ],
   "source": [
    "Results = dict(zip(X.index,km.labels_))\n",
    "print (Results)"
   ]
  },
  {
   "cell_type": "code",
   "execution_count": null,
   "metadata": {
    "collapsed": true
   },
   "outputs": [],
   "source": []
  }
 ],
 "metadata": {
  "kernelspec": {
   "display_name": "Python 3.10.9 64-bit",
   "language": "python",
   "name": "python3"
  },
  "language_info": {
   "codemirror_mode": {
    "name": "ipython",
    "version": 3
   },
   "file_extension": ".py",
   "mimetype": "text/x-python",
   "name": "python",
   "nbconvert_exporter": "python",
   "pygments_lexer": "ipython3",
   "version": "3.10.9"
  },
  "vscode": {
   "interpreter": {
    "hash": "b0fa6594d8f4cbf19f97940f81e996739fb7646882a419484c72d19e05852a7e"
   }
  }
 },
 "nbformat": 4,
 "nbformat_minor": 2
}
